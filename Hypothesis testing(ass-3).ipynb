{
 "cells": [
  {
   "cell_type": "markdown",
   "id": "f0942d12",
   "metadata": {},
   "source": [
    "# Hypothesis tesing\n",
    "# Q1"
   ]
  },
  {
   "cell_type": "code",
   "execution_count": 2,
   "id": "15071b05",
   "metadata": {
    "ExecuteTime": {
     "end_time": "2022-12-26T08:14:40.079428Z",
     "start_time": "2022-12-26T08:14:37.916799Z"
    }
   },
   "outputs": [],
   "source": [
    "import pandas as pd \n",
    "import numpy  as np\n",
    "from scipy import stats"
   ]
  },
  {
   "cell_type": "code",
   "execution_count": null,
   "id": "a9958835",
   "metadata": {},
   "outputs": [],
   "source": [
    "#Null hypothesis Ho: µ1 =µ2 (There is no difference in diameters of cutlets between two units)\n",
    "#Alternate hypothesis Ha: µ1 ≠ µ2 (There is difference in diameters of cutlets between two units)"
   ]
  },
  {
   "cell_type": "code",
   "execution_count": 4,
   "id": "770110ee",
   "metadata": {
    "ExecuteTime": {
     "end_time": "2022-12-26T08:18:53.828676Z",
     "start_time": "2022-12-26T08:18:53.796234Z"
    }
   },
   "outputs": [],
   "source": [
    "df = pd.read_csv(\"Cutlets.csv\")"
   ]
  },
  {
   "cell_type": "code",
   "execution_count": 5,
   "id": "a8b43ae3",
   "metadata": {
    "ExecuteTime": {
     "end_time": "2022-12-26T08:19:31.940561Z",
     "start_time": "2022-12-26T08:19:31.932566Z"
    }
   },
   "outputs": [],
   "source": [
    "df1=df.iloc[:,0]"
   ]
  },
  {
   "cell_type": "code",
   "execution_count": 6,
   "id": "fc327d31",
   "metadata": {
    "ExecuteTime": {
     "end_time": "2022-12-26T08:19:37.713290Z",
     "start_time": "2022-12-26T08:19:37.689304Z"
    },
    "scrolled": true
   },
   "outputs": [
    {
     "data": {
      "text/plain": [
       "0     6.8090\n",
       "1     6.4376\n",
       "2     6.9157\n",
       "3     7.3012\n",
       "4     7.4488\n",
       "5     7.3871\n",
       "6     6.8755\n",
       "7     7.0621\n",
       "8     6.6840\n",
       "9     6.8236\n",
       "10    7.3930\n",
       "11    7.5169\n",
       "12    6.9246\n",
       "13    6.9256\n",
       "14    6.5797\n",
       "15    6.8394\n",
       "16    6.5970\n",
       "17    7.2705\n",
       "18    7.2828\n",
       "19    7.3495\n",
       "20    6.9438\n",
       "21    7.1560\n",
       "22    6.5341\n",
       "23    7.2854\n",
       "24    6.9952\n",
       "25    6.8568\n",
       "26    7.2163\n",
       "27    6.6801\n",
       "28    6.9431\n",
       "29    7.0852\n",
       "30    6.7794\n",
       "31    7.2783\n",
       "32    7.1561\n",
       "33    7.3943\n",
       "34    6.9405\n",
       "Name: Unit A, dtype: float64"
      ]
     },
     "execution_count": 6,
     "metadata": {},
     "output_type": "execute_result"
    }
   ],
   "source": [
    "df1"
   ]
  },
  {
   "cell_type": "code",
   "execution_count": 7,
   "id": "281ffe2f",
   "metadata": {
    "ExecuteTime": {
     "end_time": "2022-12-26T08:20:10.667370Z",
     "start_time": "2022-12-26T08:20:10.643384Z"
    }
   },
   "outputs": [],
   "source": [
    "df2=df.iloc[:,1]"
   ]
  },
  {
   "cell_type": "code",
   "execution_count": 8,
   "id": "e74e31db",
   "metadata": {
    "ExecuteTime": {
     "end_time": "2022-12-26T08:20:23.612933Z",
     "start_time": "2022-12-26T08:20:23.596981Z"
    }
   },
   "outputs": [
    {
     "data": {
      "text/plain": [
       "0     6.7703\n",
       "1     7.5093\n",
       "2     6.7300\n",
       "3     6.7878\n",
       "4     7.1522\n",
       "5     6.8110\n",
       "6     7.2212\n",
       "7     6.6606\n",
       "8     7.2402\n",
       "9     7.0503\n",
       "10    6.8810\n",
       "11    7.4059\n",
       "12    6.7652\n",
       "13    6.0380\n",
       "14    7.1581\n",
       "15    7.0240\n",
       "16    6.6672\n",
       "17    7.4314\n",
       "18    7.3070\n",
       "19    6.7478\n",
       "20    6.8889\n",
       "21    7.4220\n",
       "22    6.5217\n",
       "23    7.1688\n",
       "24    6.7594\n",
       "25    6.9399\n",
       "26    7.0133\n",
       "27    6.9182\n",
       "28    6.3346\n",
       "29    7.5459\n",
       "30    7.0992\n",
       "31    7.1180\n",
       "32    6.6965\n",
       "33    6.5780\n",
       "34    7.3875\n",
       "Name: Unit B, dtype: float64"
      ]
     },
     "execution_count": 8,
     "metadata": {},
     "output_type": "execute_result"
    }
   ],
   "source": [
    "df2"
   ]
  },
  {
   "cell_type": "code",
   "execution_count": 10,
   "id": "e2f5a464",
   "metadata": {
    "ExecuteTime": {
     "end_time": "2022-12-26T08:21:09.373665Z",
     "start_time": "2022-12-26T08:21:09.341148Z"
    }
   },
   "outputs": [
    {
     "data": {
      "text/plain": [
       "Ttest_indResult(statistic=0.7228688704678063, pvalue=0.4722394724599501)"
      ]
     },
     "execution_count": 10,
     "metadata": {},
     "output_type": "execute_result"
    }
   ],
   "source": [
    "stats.ttest_ind(df1,df2)"
   ]
  },
  {
   "cell_type": "code",
   "execution_count": 22,
   "id": "aaa27166",
   "metadata": {
    "ExecuteTime": {
     "end_time": "2022-12-26T08:29:58.184929Z",
     "start_time": "2022-12-26T08:29:58.168970Z"
    }
   },
   "outputs": [],
   "source": [
    "p = 0.47"
   ]
  },
  {
   "cell_type": "code",
   "execution_count": 23,
   "id": "5d0f4c18",
   "metadata": {
    "ExecuteTime": {
     "end_time": "2022-12-26T08:29:59.422629Z",
     "start_time": "2022-12-26T08:29:59.406375Z"
    }
   },
   "outputs": [],
   "source": [
    "alpha = 0.05"
   ]
  },
  {
   "cell_type": "code",
   "execution_count": 6,
   "id": "b78a63d7",
   "metadata": {
    "ExecuteTime": {
     "end_time": "2023-01-08T12:07:43.598695Z",
     "start_time": "2023-01-08T12:07:43.590716Z"
    }
   },
   "outputs": [
    {
     "name": "stdout",
     "output_type": "stream",
     "text": [
      "Accept null hypothesis\n",
      "-------\n"
     ]
    }
   ],
   "source": [
    "if p>alpha:\n",
    "    print('Accept null hypothesis\\n-------')\n",
    "else:\n",
    "    print('Reject the null hypothesis\\n--------') "
   ]
  },
  {
   "cell_type": "markdown",
   "id": "5ced9d25",
   "metadata": {},
   "source": [
    "# Hence we conclude that there is no difference in diameters of cutlets between two units.\n"
   ]
  },
  {
   "cell_type": "markdown",
   "id": "1347cb67",
   "metadata": {},
   "source": [
    "# Q2"
   ]
  },
  {
   "cell_type": "code",
   "execution_count": 10,
   "id": "0da0cf62",
   "metadata": {
    "ExecuteTime": {
     "end_time": "2023-01-07T11:13:54.456279Z",
     "start_time": "2023-01-07T11:13:54.448279Z"
    }
   },
   "outputs": [],
   "source": [
    "import pandas as pd \n",
    "import numpy  as np\n",
    "from scipy import stats"
   ]
  },
  {
   "cell_type": "code",
   "execution_count": 11,
   "id": "e0225d0a",
   "metadata": {
    "ExecuteTime": {
     "end_time": "2023-01-07T11:13:54.979342Z",
     "start_time": "2023-01-07T11:13:54.955564Z"
    }
   },
   "outputs": [],
   "source": [
    "df2=pd.read_csv('LabTAT (1).csv')"
   ]
  },
  {
   "cell_type": "code",
   "execution_count": 12,
   "id": "e3763fa2",
   "metadata": {
    "ExecuteTime": {
     "end_time": "2023-01-07T11:13:55.593490Z",
     "start_time": "2023-01-07T11:13:55.569430Z"
    }
   },
   "outputs": [
    {
     "data": {
      "text/html": [
       "<div>\n",
       "<style scoped>\n",
       "    .dataframe tbody tr th:only-of-type {\n",
       "        vertical-align: middle;\n",
       "    }\n",
       "\n",
       "    .dataframe tbody tr th {\n",
       "        vertical-align: top;\n",
       "    }\n",
       "\n",
       "    .dataframe thead th {\n",
       "        text-align: right;\n",
       "    }\n",
       "</style>\n",
       "<table border=\"1\" class=\"dataframe\">\n",
       "  <thead>\n",
       "    <tr style=\"text-align: right;\">\n",
       "      <th></th>\n",
       "      <th>Laboratory 1</th>\n",
       "      <th>Laboratory 2</th>\n",
       "      <th>Laboratory 3</th>\n",
       "      <th>Laboratory 4</th>\n",
       "    </tr>\n",
       "  </thead>\n",
       "  <tbody>\n",
       "    <tr>\n",
       "      <th>0</th>\n",
       "      <td>185.35</td>\n",
       "      <td>165.53</td>\n",
       "      <td>176.70</td>\n",
       "      <td>166.13</td>\n",
       "    </tr>\n",
       "    <tr>\n",
       "      <th>1</th>\n",
       "      <td>170.49</td>\n",
       "      <td>185.91</td>\n",
       "      <td>198.45</td>\n",
       "      <td>160.79</td>\n",
       "    </tr>\n",
       "    <tr>\n",
       "      <th>2</th>\n",
       "      <td>192.77</td>\n",
       "      <td>194.92</td>\n",
       "      <td>201.23</td>\n",
       "      <td>185.18</td>\n",
       "    </tr>\n",
       "    <tr>\n",
       "      <th>3</th>\n",
       "      <td>177.33</td>\n",
       "      <td>183.00</td>\n",
       "      <td>199.61</td>\n",
       "      <td>176.42</td>\n",
       "    </tr>\n",
       "    <tr>\n",
       "      <th>4</th>\n",
       "      <td>193.41</td>\n",
       "      <td>169.57</td>\n",
       "      <td>204.63</td>\n",
       "      <td>152.60</td>\n",
       "    </tr>\n",
       "    <tr>\n",
       "      <th>...</th>\n",
       "      <td>...</td>\n",
       "      <td>...</td>\n",
       "      <td>...</td>\n",
       "      <td>...</td>\n",
       "    </tr>\n",
       "    <tr>\n",
       "      <th>115</th>\n",
       "      <td>178.49</td>\n",
       "      <td>170.66</td>\n",
       "      <td>193.80</td>\n",
       "      <td>172.68</td>\n",
       "    </tr>\n",
       "    <tr>\n",
       "      <th>116</th>\n",
       "      <td>176.08</td>\n",
       "      <td>183.98</td>\n",
       "      <td>215.25</td>\n",
       "      <td>177.64</td>\n",
       "    </tr>\n",
       "    <tr>\n",
       "      <th>117</th>\n",
       "      <td>202.48</td>\n",
       "      <td>174.54</td>\n",
       "      <td>203.99</td>\n",
       "      <td>170.27</td>\n",
       "    </tr>\n",
       "    <tr>\n",
       "      <th>118</th>\n",
       "      <td>182.40</td>\n",
       "      <td>197.18</td>\n",
       "      <td>194.52</td>\n",
       "      <td>150.87</td>\n",
       "    </tr>\n",
       "    <tr>\n",
       "      <th>119</th>\n",
       "      <td>182.09</td>\n",
       "      <td>215.17</td>\n",
       "      <td>221.49</td>\n",
       "      <td>162.21</td>\n",
       "    </tr>\n",
       "  </tbody>\n",
       "</table>\n",
       "<p>120 rows × 4 columns</p>\n",
       "</div>"
      ],
      "text/plain": [
       "     Laboratory 1  Laboratory 2  Laboratory 3  Laboratory 4\n",
       "0          185.35        165.53        176.70        166.13\n",
       "1          170.49        185.91        198.45        160.79\n",
       "2          192.77        194.92        201.23        185.18\n",
       "3          177.33        183.00        199.61        176.42\n",
       "4          193.41        169.57        204.63        152.60\n",
       "..            ...           ...           ...           ...\n",
       "115        178.49        170.66        193.80        172.68\n",
       "116        176.08        183.98        215.25        177.64\n",
       "117        202.48        174.54        203.99        170.27\n",
       "118        182.40        197.18        194.52        150.87\n",
       "119        182.09        215.17        221.49        162.21\n",
       "\n",
       "[120 rows x 4 columns]"
      ]
     },
     "execution_count": 12,
     "metadata": {},
     "output_type": "execute_result"
    }
   ],
   "source": [
    "df2"
   ]
  },
  {
   "cell_type": "code",
   "execution_count": 13,
   "id": "42d02fb6",
   "metadata": {
    "ExecuteTime": {
     "end_time": "2023-01-07T11:13:56.173591Z",
     "start_time": "2023-01-07T11:13:56.134242Z"
    }
   },
   "outputs": [
    {
     "data": {
      "text/html": [
       "<div>\n",
       "<style scoped>\n",
       "    .dataframe tbody tr th:only-of-type {\n",
       "        vertical-align: middle;\n",
       "    }\n",
       "\n",
       "    .dataframe tbody tr th {\n",
       "        vertical-align: top;\n",
       "    }\n",
       "\n",
       "    .dataframe thead th {\n",
       "        text-align: right;\n",
       "    }\n",
       "</style>\n",
       "<table border=\"1\" class=\"dataframe\">\n",
       "  <thead>\n",
       "    <tr style=\"text-align: right;\">\n",
       "      <th></th>\n",
       "      <th>Laboratory 1</th>\n",
       "      <th>Laboratory 2</th>\n",
       "      <th>Laboratory 3</th>\n",
       "      <th>Laboratory 4</th>\n",
       "    </tr>\n",
       "  </thead>\n",
       "  <tbody>\n",
       "    <tr>\n",
       "      <th>count</th>\n",
       "      <td>120.000000</td>\n",
       "      <td>120.000000</td>\n",
       "      <td>120.000000</td>\n",
       "      <td>120.00000</td>\n",
       "    </tr>\n",
       "    <tr>\n",
       "      <th>mean</th>\n",
       "      <td>178.361583</td>\n",
       "      <td>178.902917</td>\n",
       "      <td>199.913250</td>\n",
       "      <td>163.68275</td>\n",
       "    </tr>\n",
       "    <tr>\n",
       "      <th>std</th>\n",
       "      <td>13.173594</td>\n",
       "      <td>14.957114</td>\n",
       "      <td>16.539033</td>\n",
       "      <td>15.08508</td>\n",
       "    </tr>\n",
       "    <tr>\n",
       "      <th>min</th>\n",
       "      <td>138.300000</td>\n",
       "      <td>140.550000</td>\n",
       "      <td>159.690000</td>\n",
       "      <td>124.06000</td>\n",
       "    </tr>\n",
       "    <tr>\n",
       "      <th>25%</th>\n",
       "      <td>170.335000</td>\n",
       "      <td>168.025000</td>\n",
       "      <td>188.232500</td>\n",
       "      <td>154.05000</td>\n",
       "    </tr>\n",
       "    <tr>\n",
       "      <th>50%</th>\n",
       "      <td>178.530000</td>\n",
       "      <td>178.870000</td>\n",
       "      <td>199.805000</td>\n",
       "      <td>164.42500</td>\n",
       "    </tr>\n",
       "    <tr>\n",
       "      <th>75%</th>\n",
       "      <td>186.535000</td>\n",
       "      <td>189.112500</td>\n",
       "      <td>211.332500</td>\n",
       "      <td>172.88250</td>\n",
       "    </tr>\n",
       "    <tr>\n",
       "      <th>max</th>\n",
       "      <td>216.390000</td>\n",
       "      <td>217.860000</td>\n",
       "      <td>238.700000</td>\n",
       "      <td>205.18000</td>\n",
       "    </tr>\n",
       "  </tbody>\n",
       "</table>\n",
       "</div>"
      ],
      "text/plain": [
       "       Laboratory 1  Laboratory 2  Laboratory 3  Laboratory 4\n",
       "count    120.000000    120.000000    120.000000     120.00000\n",
       "mean     178.361583    178.902917    199.913250     163.68275\n",
       "std       13.173594     14.957114     16.539033      15.08508\n",
       "min      138.300000    140.550000    159.690000     124.06000\n",
       "25%      170.335000    168.025000    188.232500     154.05000\n",
       "50%      178.530000    178.870000    199.805000     164.42500\n",
       "75%      186.535000    189.112500    211.332500     172.88250\n",
       "max      216.390000    217.860000    238.700000     205.18000"
      ]
     },
     "execution_count": 13,
     "metadata": {},
     "output_type": "execute_result"
    }
   ],
   "source": [
    "df2.describe()"
   ]
  },
  {
   "cell_type": "code",
   "execution_count": 1,
   "id": "ef910185",
   "metadata": {
    "ExecuteTime": {
     "end_time": "2023-01-08T12:00:30.748599Z",
     "start_time": "2023-01-08T12:00:30.736661Z"
    }
   },
   "outputs": [],
   "source": [
    "#Null Hypothesis Ho: All samples TAT population means same\n",
    "#Alternate Hypothesis Ha: Atleast one sample TAT population mean is different\n",
    "\n"
   ]
  },
  {
   "cell_type": "code",
   "execution_count": 14,
   "id": "cf6a02f2",
   "metadata": {
    "ExecuteTime": {
     "end_time": "2023-01-07T11:13:56.731052Z",
     "start_time": "2023-01-07T11:13:56.699197Z"
    }
   },
   "outputs": [
    {
     "data": {
      "text/html": [
       "<div>\n",
       "<style scoped>\n",
       "    .dataframe tbody tr th:only-of-type {\n",
       "        vertical-align: middle;\n",
       "    }\n",
       "\n",
       "    .dataframe tbody tr th {\n",
       "        vertical-align: top;\n",
       "    }\n",
       "\n",
       "    .dataframe thead th {\n",
       "        text-align: right;\n",
       "    }\n",
       "</style>\n",
       "<table border=\"1\" class=\"dataframe\">\n",
       "  <thead>\n",
       "    <tr style=\"text-align: right;\">\n",
       "      <th></th>\n",
       "      <th>Laboratory 1</th>\n",
       "      <th>Laboratory 2</th>\n",
       "      <th>Laboratory 3</th>\n",
       "      <th>Laboratory 4</th>\n",
       "    </tr>\n",
       "  </thead>\n",
       "  <tbody>\n",
       "    <tr>\n",
       "      <th>0</th>\n",
       "      <td>185.35</td>\n",
       "      <td>165.53</td>\n",
       "      <td>176.70</td>\n",
       "      <td>166.13</td>\n",
       "    </tr>\n",
       "    <tr>\n",
       "      <th>1</th>\n",
       "      <td>170.49</td>\n",
       "      <td>185.91</td>\n",
       "      <td>198.45</td>\n",
       "      <td>160.79</td>\n",
       "    </tr>\n",
       "    <tr>\n",
       "      <th>2</th>\n",
       "      <td>192.77</td>\n",
       "      <td>194.92</td>\n",
       "      <td>201.23</td>\n",
       "      <td>185.18</td>\n",
       "    </tr>\n",
       "    <tr>\n",
       "      <th>3</th>\n",
       "      <td>177.33</td>\n",
       "      <td>183.00</td>\n",
       "      <td>199.61</td>\n",
       "      <td>176.42</td>\n",
       "    </tr>\n",
       "    <tr>\n",
       "      <th>4</th>\n",
       "      <td>193.41</td>\n",
       "      <td>169.57</td>\n",
       "      <td>204.63</td>\n",
       "      <td>152.60</td>\n",
       "    </tr>\n",
       "  </tbody>\n",
       "</table>\n",
       "</div>"
      ],
      "text/plain": [
       "   Laboratory 1  Laboratory 2  Laboratory 3  Laboratory 4\n",
       "0        185.35        165.53        176.70        166.13\n",
       "1        170.49        185.91        198.45        160.79\n",
       "2        192.77        194.92        201.23        185.18\n",
       "3        177.33        183.00        199.61        176.42\n",
       "4        193.41        169.57        204.63        152.60"
      ]
     },
     "execution_count": 14,
     "metadata": {},
     "output_type": "execute_result"
    }
   ],
   "source": [
    "df2.head()"
   ]
  },
  {
   "cell_type": "code",
   "execution_count": 15,
   "id": "6a43aa47",
   "metadata": {
    "ExecuteTime": {
     "end_time": "2023-01-07T11:13:57.474231Z",
     "start_time": "2023-01-07T11:13:57.450216Z"
    }
   },
   "outputs": [
    {
     "data": {
      "text/plain": [
       "F_onewayResult(statistic=118.70421654401437, pvalue=2.1156708949992414e-57)"
      ]
     },
     "execution_count": 15,
     "metadata": {},
     "output_type": "execute_result"
    }
   ],
   "source": [
    "#Anova ftest statistics: stats.f_oneway(column-1,column-2,column-3,column-4)\n",
    "stats.f_oneway(df2.iloc[:,0],df2.iloc[:,1],df2.iloc[:,2],df2.iloc[:,3])"
   ]
  },
  {
   "cell_type": "code",
   "execution_count": 16,
   "id": "ba510a1a",
   "metadata": {
    "ExecuteTime": {
     "end_time": "2023-01-07T11:14:04.492130Z",
     "start_time": "2023-01-07T11:14:04.477483Z"
    }
   },
   "outputs": [],
   "source": [
    "p=0"
   ]
  },
  {
   "cell_type": "code",
   "execution_count": 17,
   "id": "8615045a",
   "metadata": {
    "ExecuteTime": {
     "end_time": "2023-01-07T11:14:10.969291Z",
     "start_time": "2023-01-07T11:14:10.953270Z"
    }
   },
   "outputs": [],
   "source": [
    "alpha = 0.05"
   ]
  },
  {
   "cell_type": "code",
   "execution_count": 18,
   "id": "28aa6dfd",
   "metadata": {
    "ExecuteTime": {
     "end_time": "2023-01-07T11:14:11.878395Z",
     "start_time": "2023-01-07T11:14:11.870370Z"
    }
   },
   "outputs": [
    {
     "name": "stdout",
     "output_type": "stream",
     "text": [
      "Reject the null hypothesis\n",
      "--------\n"
     ]
    }
   ],
   "source": [
    "if p>alpha:\n",
    "    print('Accept null hypothesis\\n-------')\n",
    "else:\n",
    "    print('Reject the null hypothesis\\n--------')"
   ]
  },
  {
   "cell_type": "markdown",
   "id": "d4b32db4",
   "metadata": {},
   "source": [
    "# So, We conclude that atleast one sample TAT population mean is different."
   ]
  },
  {
   "cell_type": "markdown",
   "id": "8f9de5e6",
   "metadata": {},
   "source": [
    "# Q3"
   ]
  },
  {
   "cell_type": "code",
   "execution_count": 1,
   "id": "fccd804b",
   "metadata": {
    "ExecuteTime": {
     "end_time": "2022-12-27T13:49:35.278477Z",
     "start_time": "2022-12-27T13:49:33.576068Z"
    }
   },
   "outputs": [],
   "source": [
    "import pandas as pd \n",
    "import numpy  as np\n",
    "from scipy import stats\n",
    "from scipy.stats import norm\n",
    "from scipy.stats import chi2_contingency"
   ]
  },
  {
   "cell_type": "code",
   "execution_count": 2,
   "id": "426e16b2",
   "metadata": {
    "ExecuteTime": {
     "end_time": "2022-12-27T13:49:35.303407Z",
     "start_time": "2022-12-27T13:49:35.278477Z"
    }
   },
   "outputs": [],
   "source": [
    "df = pd.read_csv('BuyerRatio.csv')"
   ]
  },
  {
   "cell_type": "code",
   "execution_count": 3,
   "id": "a785689b",
   "metadata": {
    "ExecuteTime": {
     "end_time": "2022-12-27T13:49:35.343284Z",
     "start_time": "2022-12-27T13:49:35.303407Z"
    }
   },
   "outputs": [
    {
     "data": {
      "text/html": [
       "<div>\n",
       "<style scoped>\n",
       "    .dataframe tbody tr th:only-of-type {\n",
       "        vertical-align: middle;\n",
       "    }\n",
       "\n",
       "    .dataframe tbody tr th {\n",
       "        vertical-align: top;\n",
       "    }\n",
       "\n",
       "    .dataframe thead th {\n",
       "        text-align: right;\n",
       "    }\n",
       "</style>\n",
       "<table border=\"1\" class=\"dataframe\">\n",
       "  <thead>\n",
       "    <tr style=\"text-align: right;\">\n",
       "      <th></th>\n",
       "      <th>Observed Values</th>\n",
       "      <th>East</th>\n",
       "      <th>West</th>\n",
       "      <th>North</th>\n",
       "      <th>South</th>\n",
       "    </tr>\n",
       "  </thead>\n",
       "  <tbody>\n",
       "    <tr>\n",
       "      <th>0</th>\n",
       "      <td>Males</td>\n",
       "      <td>50</td>\n",
       "      <td>142</td>\n",
       "      <td>131</td>\n",
       "      <td>70</td>\n",
       "    </tr>\n",
       "    <tr>\n",
       "      <th>1</th>\n",
       "      <td>Females</td>\n",
       "      <td>435</td>\n",
       "      <td>1523</td>\n",
       "      <td>1356</td>\n",
       "      <td>750</td>\n",
       "    </tr>\n",
       "  </tbody>\n",
       "</table>\n",
       "</div>"
      ],
      "text/plain": [
       "  Observed Values  East  West  North  South\n",
       "0           Males    50   142    131     70\n",
       "1         Females   435  1523   1356    750"
      ]
     },
     "execution_count": 3,
     "metadata": {},
     "output_type": "execute_result"
    }
   ],
   "source": [
    "df"
   ]
  },
  {
   "cell_type": "code",
   "execution_count": null,
   "id": "1c6252d7",
   "metadata": {},
   "outputs": [],
   "source": [
    "#Assume Null hypothesis Ho:Independent of categorical variables means male-female buyer rations are similar across regions\n",
    "#Alternative hypothesis Ha: Dependent of categorical variables means male-female buyer rations are not similar across regions"
   ]
  },
  {
   "cell_type": "code",
   "execution_count": 5,
   "id": "91746ec1",
   "metadata": {
    "ExecuteTime": {
     "end_time": "2022-12-27T13:51:16.558115Z",
     "start_time": "2022-12-27T13:51:16.546539Z"
    }
   },
   "outputs": [
    {
     "data": {
      "text/plain": [
       "array([[  50,  142,  131,   70],\n",
       "       [ 435, 1523, 1356,  750]])"
      ]
     },
     "execution_count": 5,
     "metadata": {},
     "output_type": "execute_result"
    }
   ],
   "source": [
    "# Make dimentional array\n",
    "df1=np.array([[50,142,131,70],[435,1523,1356,750]])\n",
    "df1"
   ]
  },
  {
   "cell_type": "code",
   "execution_count": 6,
   "id": "c21cb65c",
   "metadata": {
    "ExecuteTime": {
     "end_time": "2022-12-27T13:53:53.368317Z",
     "start_time": "2022-12-27T13:53:53.339819Z"
    }
   },
   "outputs": [
    {
     "data": {
      "text/plain": [
       "(1.595945538661058,\n",
       " 0.6603094907091882,\n",
       " 3,\n",
       " array([[  42.76531299,  146.81287862,  131.11756787,   72.30424052],\n",
       "        [ 442.23468701, 1518.18712138, 1355.88243213,  747.69575948]]))"
      ]
     },
     "execution_count": 6,
     "metadata": {},
     "output_type": "execute_result"
    }
   ],
   "source": [
    "# chi2 contengency independence test\n",
    "chi2_contingency(df1) #(chi2 stats value. p_value, df, expected observations)"
   ]
  },
  {
   "cell_type": "code",
   "execution_count": 8,
   "id": "623d4951",
   "metadata": {
    "ExecuteTime": {
     "end_time": "2022-12-27T13:55:23.064282Z",
     "start_time": "2022-12-27T13:55:23.052238Z"
    }
   },
   "outputs": [],
   "source": [
    "p=0.66"
   ]
  },
  {
   "cell_type": "code",
   "execution_count": 9,
   "id": "65cb9986",
   "metadata": {
    "ExecuteTime": {
     "end_time": "2022-12-27T13:55:43.936986Z",
     "start_time": "2022-12-27T13:55:43.915985Z"
    }
   },
   "outputs": [],
   "source": [
    "alpha=0.05"
   ]
  },
  {
   "cell_type": "markdown",
   "id": "2143424e",
   "metadata": {},
   "source": [
    "# P value > alpha value\n",
    "   \n",
    "# \"Accept Null Hypothesis\""
   ]
  },
  {
   "cell_type": "markdown",
   "id": "7dd41309",
   "metadata": {},
   "source": [
    "# Hence, male-female buyer rations are  similar across regions."
   ]
  },
  {
   "cell_type": "markdown",
   "id": "b8a3c748",
   "metadata": {},
   "source": [
    "# Q4"
   ]
  },
  {
   "cell_type": "code",
   "execution_count": 35,
   "id": "2f565217",
   "metadata": {
    "ExecuteTime": {
     "end_time": "2023-01-04T16:18:59.603978Z",
     "start_time": "2023-01-04T16:18:59.592977Z"
    }
   },
   "outputs": [],
   "source": [
    "import pandas as pd \n",
    "import numpy  as np\n",
    "from scipy.stats import chi2_contingency"
   ]
  },
  {
   "cell_type": "code",
   "execution_count": 36,
   "id": "37cbaf53",
   "metadata": {
    "ExecuteTime": {
     "end_time": "2023-01-04T16:19:00.725629Z",
     "start_time": "2023-01-04T16:19:00.713662Z"
    }
   },
   "outputs": [],
   "source": [
    "data = pd.read_csv('Costomer+OrderForm.csv')"
   ]
  },
  {
   "cell_type": "code",
   "execution_count": 37,
   "id": "6fab2f46",
   "metadata": {
    "ExecuteTime": {
     "end_time": "2023-01-04T16:19:01.250918Z",
     "start_time": "2023-01-04T16:19:01.233963Z"
    }
   },
   "outputs": [
    {
     "data": {
      "text/html": [
       "<div>\n",
       "<style scoped>\n",
       "    .dataframe tbody tr th:only-of-type {\n",
       "        vertical-align: middle;\n",
       "    }\n",
       "\n",
       "    .dataframe tbody tr th {\n",
       "        vertical-align: top;\n",
       "    }\n",
       "\n",
       "    .dataframe thead th {\n",
       "        text-align: right;\n",
       "    }\n",
       "</style>\n",
       "<table border=\"1\" class=\"dataframe\">\n",
       "  <thead>\n",
       "    <tr style=\"text-align: right;\">\n",
       "      <th></th>\n",
       "      <th>Phillippines</th>\n",
       "      <th>Indonesia</th>\n",
       "      <th>Malta</th>\n",
       "      <th>India</th>\n",
       "    </tr>\n",
       "  </thead>\n",
       "  <tbody>\n",
       "    <tr>\n",
       "      <th>0</th>\n",
       "      <td>Error Free</td>\n",
       "      <td>Error Free</td>\n",
       "      <td>Defective</td>\n",
       "      <td>Error Free</td>\n",
       "    </tr>\n",
       "    <tr>\n",
       "      <th>1</th>\n",
       "      <td>Error Free</td>\n",
       "      <td>Error Free</td>\n",
       "      <td>Error Free</td>\n",
       "      <td>Defective</td>\n",
       "    </tr>\n",
       "    <tr>\n",
       "      <th>2</th>\n",
       "      <td>Error Free</td>\n",
       "      <td>Defective</td>\n",
       "      <td>Defective</td>\n",
       "      <td>Error Free</td>\n",
       "    </tr>\n",
       "    <tr>\n",
       "      <th>3</th>\n",
       "      <td>Error Free</td>\n",
       "      <td>Error Free</td>\n",
       "      <td>Error Free</td>\n",
       "      <td>Error Free</td>\n",
       "    </tr>\n",
       "    <tr>\n",
       "      <th>4</th>\n",
       "      <td>Error Free</td>\n",
       "      <td>Error Free</td>\n",
       "      <td>Defective</td>\n",
       "      <td>Error Free</td>\n",
       "    </tr>\n",
       "    <tr>\n",
       "      <th>...</th>\n",
       "      <td>...</td>\n",
       "      <td>...</td>\n",
       "      <td>...</td>\n",
       "      <td>...</td>\n",
       "    </tr>\n",
       "    <tr>\n",
       "      <th>295</th>\n",
       "      <td>Error Free</td>\n",
       "      <td>Error Free</td>\n",
       "      <td>Error Free</td>\n",
       "      <td>Error Free</td>\n",
       "    </tr>\n",
       "    <tr>\n",
       "      <th>296</th>\n",
       "      <td>Error Free</td>\n",
       "      <td>Error Free</td>\n",
       "      <td>Error Free</td>\n",
       "      <td>Error Free</td>\n",
       "    </tr>\n",
       "    <tr>\n",
       "      <th>297</th>\n",
       "      <td>Error Free</td>\n",
       "      <td>Error Free</td>\n",
       "      <td>Defective</td>\n",
       "      <td>Error Free</td>\n",
       "    </tr>\n",
       "    <tr>\n",
       "      <th>298</th>\n",
       "      <td>Error Free</td>\n",
       "      <td>Error Free</td>\n",
       "      <td>Error Free</td>\n",
       "      <td>Error Free</td>\n",
       "    </tr>\n",
       "    <tr>\n",
       "      <th>299</th>\n",
       "      <td>Error Free</td>\n",
       "      <td>Defective</td>\n",
       "      <td>Defective</td>\n",
       "      <td>Error Free</td>\n",
       "    </tr>\n",
       "  </tbody>\n",
       "</table>\n",
       "<p>300 rows × 4 columns</p>\n",
       "</div>"
      ],
      "text/plain": [
       "    Phillippines   Indonesia       Malta       India\n",
       "0     Error Free  Error Free   Defective  Error Free\n",
       "1     Error Free  Error Free  Error Free   Defective\n",
       "2     Error Free   Defective   Defective  Error Free\n",
       "3     Error Free  Error Free  Error Free  Error Free\n",
       "4     Error Free  Error Free   Defective  Error Free\n",
       "..           ...         ...         ...         ...\n",
       "295   Error Free  Error Free  Error Free  Error Free\n",
       "296   Error Free  Error Free  Error Free  Error Free\n",
       "297   Error Free  Error Free   Defective  Error Free\n",
       "298   Error Free  Error Free  Error Free  Error Free\n",
       "299   Error Free   Defective   Defective  Error Free\n",
       "\n",
       "[300 rows x 4 columns]"
      ]
     },
     "execution_count": 37,
     "metadata": {},
     "output_type": "execute_result"
    }
   ],
   "source": [
    "data"
   ]
  },
  {
   "cell_type": "code",
   "execution_count": null,
   "id": "290e8ea4",
   "metadata": {},
   "outputs": [],
   "source": [
    "#Assume Null hypothesis Ho: Customer order forms defective % does not varies by center\n",
    "#Alternative hypothesis Ha: Customer order forms defective % varies by center"
   ]
  },
  {
   "cell_type": "code",
   "execution_count": 38,
   "id": "60cf336d",
   "metadata": {
    "ExecuteTime": {
     "end_time": "2023-01-04T16:19:01.653329Z",
     "start_time": "2023-01-04T16:19:01.646171Z"
    }
   },
   "outputs": [
    {
     "data": {
      "text/plain": [
       "Error Free    271\n",
       "Defective      29\n",
       "Name: Phillippines, dtype: int64"
      ]
     },
     "execution_count": 38,
     "metadata": {},
     "output_type": "execute_result"
    }
   ],
   "source": [
    "data.Phillippines.value_counts()"
   ]
  },
  {
   "cell_type": "code",
   "execution_count": 39,
   "id": "aa35834d",
   "metadata": {
    "ExecuteTime": {
     "end_time": "2023-01-04T16:19:02.075501Z",
     "start_time": "2023-01-04T16:19:02.065258Z"
    }
   },
   "outputs": [
    {
     "data": {
      "text/plain": [
       "Error Free    267\n",
       "Defective      33\n",
       "Name: Indonesia, dtype: int64"
      ]
     },
     "execution_count": 39,
     "metadata": {},
     "output_type": "execute_result"
    }
   ],
   "source": [
    "data.Indonesia.value_counts()"
   ]
  },
  {
   "cell_type": "code",
   "execution_count": 40,
   "id": "a99bef28",
   "metadata": {
    "ExecuteTime": {
     "end_time": "2023-01-04T16:19:02.525580Z",
     "start_time": "2023-01-04T16:19:02.516572Z"
    }
   },
   "outputs": [
    {
     "data": {
      "text/plain": [
       "Error Free    269\n",
       "Defective      31\n",
       "Name: Malta, dtype: int64"
      ]
     },
     "execution_count": 40,
     "metadata": {},
     "output_type": "execute_result"
    }
   ],
   "source": [
    "data.Malta.value_counts()"
   ]
  },
  {
   "cell_type": "code",
   "execution_count": 41,
   "id": "04ff57c8",
   "metadata": {
    "ExecuteTime": {
     "end_time": "2023-01-04T16:19:03.305047Z",
     "start_time": "2023-01-04T16:19:03.297038Z"
    }
   },
   "outputs": [
    {
     "data": {
      "text/plain": [
       "Error Free    280\n",
       "Defective      20\n",
       "Name: India, dtype: int64"
      ]
     },
     "execution_count": 41,
     "metadata": {},
     "output_type": "execute_result"
    }
   ],
   "source": [
    "data.India.value_counts()"
   ]
  },
  {
   "cell_type": "code",
   "execution_count": 42,
   "id": "d7f836d0",
   "metadata": {
    "ExecuteTime": {
     "end_time": "2023-01-04T16:19:03.946769Z",
     "start_time": "2023-01-04T16:19:03.939787Z"
    }
   },
   "outputs": [],
   "source": [
    "df1=np.array([[271,267,269,280],[29,33,31,20]])"
   ]
  },
  {
   "cell_type": "code",
   "execution_count": 44,
   "id": "f1e32942",
   "metadata": {
    "ExecuteTime": {
     "end_time": "2023-01-04T16:19:11.205287Z",
     "start_time": "2023-01-04T16:19:11.195282Z"
    }
   },
   "outputs": [
    {
     "data": {
      "text/plain": [
       "(3.858960685820355,\n",
       " 0.2771020991233135,\n",
       " 3,\n",
       " array([[271.75, 271.75, 271.75, 271.75],\n",
       "        [ 28.25,  28.25,  28.25,  28.25]]))"
      ]
     },
     "execution_count": 44,
     "metadata": {},
     "output_type": "execute_result"
    }
   ],
   "source": [
    "chi2_contingency(df1)"
   ]
  },
  {
   "cell_type": "code",
   "execution_count": 45,
   "id": "e51f5d43",
   "metadata": {
    "ExecuteTime": {
     "end_time": "2023-01-04T16:19:12.346199Z",
     "start_time": "2023-01-04T16:19:12.328246Z"
    }
   },
   "outputs": [],
   "source": [
    "#P value > 0.05\n",
    "#accept null hypothesis"
   ]
  },
  {
   "cell_type": "code",
   "execution_count": 3,
   "id": "c933911a",
   "metadata": {
    "ExecuteTime": {
     "end_time": "2023-01-08T12:07:09.522089Z",
     "start_time": "2023-01-08T12:07:09.516103Z"
    }
   },
   "outputs": [],
   "source": [
    "p=0.2771020991233135"
   ]
  },
  {
   "cell_type": "code",
   "execution_count": 4,
   "id": "bd0da652",
   "metadata": {
    "ExecuteTime": {
     "end_time": "2023-01-08T12:07:09.941850Z",
     "start_time": "2023-01-08T12:07:09.925893Z"
    }
   },
   "outputs": [],
   "source": [
    "alpha=0.05"
   ]
  },
  {
   "cell_type": "code",
   "execution_count": 5,
   "id": "8b1e0954",
   "metadata": {
    "ExecuteTime": {
     "end_time": "2023-01-08T12:07:10.361724Z",
     "start_time": "2023-01-08T12:07:10.342806Z"
    }
   },
   "outputs": [
    {
     "name": "stdout",
     "output_type": "stream",
     "text": [
      "Accept null hypothesis\n",
      "-------\n"
     ]
    }
   ],
   "source": [
    "if p>alpha:\n",
    "    print('Accept null hypothesis\\n-------')\n",
    "else:\n",
    "    print('Reject the null hypothesis\\n--------')"
   ]
  },
  {
   "cell_type": "markdown",
   "id": "59094ed8",
   "metadata": {},
   "source": [
    "# Thus,Customer order forms defective % doesn't varies by center.\n"
   ]
  },
  {
   "cell_type": "code",
   "execution_count": null,
   "id": "4f1e928a",
   "metadata": {},
   "outputs": [],
   "source": []
  }
 ],
 "metadata": {
  "kernelspec": {
   "display_name": "Python 3 (ipykernel)",
   "language": "python",
   "name": "python3"
  },
  "language_info": {
   "codemirror_mode": {
    "name": "ipython",
    "version": 3
   },
   "file_extension": ".py",
   "mimetype": "text/x-python",
   "name": "python",
   "nbconvert_exporter": "python",
   "pygments_lexer": "ipython3",
   "version": "3.9.13"
  }
 },
 "nbformat": 4,
 "nbformat_minor": 5
}
